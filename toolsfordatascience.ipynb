{
 "cells": [
  {
   "cell_type": "markdown",
   "id": "01cca457-81fb-451c-8394-1feeecaad5e8",
   "metadata": {},
   "source": [
    "<h1>My Jupyter Notebook on IBM Watson Studio</h1>"
   ]
  },
  {
   "cell_type": "markdown",
   "id": "2bb4355a-55d5-43be-b886-8c4f21c9515c",
   "metadata": {},
   "source": [
    "<strong>Ali Dali</strong><br>\n",
    "Desired occupation: Data Scientist"
   ]
  },
  {
   "cell_type": "markdown",
   "id": "f2dc9e38-4cde-429a-93b9-c9f6e2e217f6",
   "metadata": {},
   "source": [
    "<em>I'm interested in data science</em>"
   ]
  },
  {
   "cell_type": "markdown",
   "id": "36b269cc-46f9-416d-b017-23f3f66885f9",
   "metadata": {},
   "source": [
    "<h3>In the next cell 5 will be multiplied by 5</h3>"
   ]
  },
  {
   "cell_type": "code",
   "execution_count": 2,
   "id": "045611f4-9cf6-4053-aa82-3bef3c833de7",
   "metadata": {},
   "outputs": [
    {
     "data": {
      "text/plain": [
       "25"
      ]
     },
     "execution_count": 2,
     "metadata": {},
     "output_type": "execute_result"
    }
   ],
   "source": [
    "5*5"
   ]
  },
  {
   "cell_type": "markdown",
   "id": "b089e1d0-4346-4c11-8213-d71dd232c5d5",
   "metadata": {},
   "source": [
    "<ul><li>Bullet Item 1</li><li>Bullet Item 2</li><li>Bullet Item 3</li></ul><ol><li>Number Item 1</li><li>Number Item 2</li><li>Number Item 3</li></ol><strike>Strikethrough element</strike>"
   ]
  },
  {
   "cell_type": "code",
   "execution_count": null,
   "id": "5344ca5c-3be8-4881-be61-1dfb75411624",
   "metadata": {},
   "outputs": [],
   "source": []
  }
 ],
 "metadata": {
  "kernelspec": {
   "display_name": "Python",
   "language": "python",
   "name": "conda-env-python-py"
  },
  "language_info": {
   "codemirror_mode": {
    "name": "ipython",
    "version": 3
   },
   "file_extension": ".py",
   "mimetype": "text/x-python",
   "name": "python",
   "nbconvert_exporter": "python",
   "pygments_lexer": "ipython3",
   "version": "3.7.12"
  }
 },
 "nbformat": 4,
 "nbformat_minor": 5
}
